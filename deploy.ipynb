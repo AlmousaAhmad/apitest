{
 "cells": [
  {
   "cell_type": "code",
   "execution_count": 36,
   "metadata": {},
   "outputs": [],
   "source": [
    "import pickle\n",
    "import json\n",
    "import pandas as pd\n",
    "import numpy as np\n",
    "with open('xgboost model.pkl', 'rb') as file:\n",
    "    xgboost_model = pickle.load(file)\n",
    "with open('commoditys_encoded.pkl', 'rb') as lst:\n",
    "    commoditys = pickle.load(lst)\n",
    "with open('categorys_encoded.pkl', 'rb') as lst:\n",
    "    categorys = pickle.load(lst)\n",
    "with open('cat_com.json', 'r') as di:\n",
    "    cat_com = json.load(di)"
   ]
  },
  {
   "cell_type": "code",
   "execution_count": 37,
   "metadata": {},
   "outputs": [],
   "source": [
    "def display_menu():\n",
    "    print(\"Welcome to Food Price predictor!\")\n",
    "    print(\"1. predict average price of all markets\")\n",
    "    print(\"2. predict market price by insert average price of all markets\")\n",
    "    print(\"3. Exit\")"
   ]
  },
  {
   "cell_type": "code",
   "execution_count": 38,
   "metadata": {},
   "outputs": [],
   "source": [
    "def get_choice():\n",
    "    choice = input(\"Please enter your choice number: \")\n",
    "    return choice"
   ]
  },
  {
   "cell_type": "code",
   "execution_count": 39,
   "metadata": {},
   "outputs": [],
   "source": [
    "def try_ex(arr,ind):\n",
    "    try:\n",
    "        arr[ind]\n",
    "    except IndexError:\n",
    "        print(\"\\nInvalid choice. Please try again.\")\n",
    "        return False\n",
    "    return True"
   ]
  },
  {
   "cell_type": "code",
   "execution_count": 40,
   "metadata": {},
   "outputs": [],
   "source": [
    "def predict_average():\n",
    "    print(\"\\nplease insert these info:\")\n",
    "    print(\"\\nwhat is the category of food?\\n\")\n",
    "    for i in range(len(categorys)):\n",
    "        print(i+1,\". \",categorys[i])\n",
    "    choice = 0\n",
    "    while True:\n",
    "        choice = int(get_choice())-1\n",
    "        if try_ex(categorys,choice):\n",
    "            break\n",
    "    category_choice = categorys[choice]\n",
    "    print(category_choice)\n"
   ]
  },
  {
   "cell_type": "code",
   "execution_count": 41,
   "metadata": {},
   "outputs": [
    {
     "name": "stdout",
     "output_type": "stream",
     "text": [
      "Welcome to Food Price predictor!\n",
      "1. predict average price of all markets\n",
      "2. predict market price by insert average price of all markets\n",
      "3. Exit\n",
      "\n",
      "Thank You for using our program!\n"
     ]
    }
   ],
   "source": [
    "def main():\n",
    "    while True:\n",
    "        display_menu()\n",
    "        choice = get_choice()\n",
    "\n",
    "        if choice == \"1\":\n",
    "            predict_average()\n",
    "        elif choice == \"2\":\n",
    "            print(\"\\nYou selected Option Two\")\n",
    "        elif choice == \"3\":\n",
    "            print(\"\\nThank You for using our program!\")\n",
    "            break\n",
    "        else:\n",
    "            print(\"\\nInvalid choice. Please try again.\")\n",
    "\n",
    "if __name__ == '__main__':\n",
    "    main()"
   ]
  },
  {
   "cell_type": "code",
   "execution_count": 42,
   "metadata": {},
   "outputs": [
    {
     "data": {
      "text/html": [
       "<div>\n",
       "<style scoped>\n",
       "    .dataframe tbody tr th:only-of-type {\n",
       "        vertical-align: middle;\n",
       "    }\n",
       "\n",
       "    .dataframe tbody tr th {\n",
       "        vertical-align: top;\n",
       "    }\n",
       "\n",
       "    .dataframe thead th {\n",
       "        text-align: right;\n",
       "    }\n",
       "</style>\n",
       "<table border=\"1\" class=\"dataframe\">\n",
       "  <thead>\n",
       "    <tr style=\"text-align: right;\">\n",
       "      <th></th>\n",
       "      <th>commodity</th>\n",
       "      <th>month</th>\n",
       "      <th>year</th>\n",
       "      <th>price_x</th>\n",
       "      <th>market</th>\n",
       "    </tr>\n",
       "  </thead>\n",
       "  <tbody>\n",
       "    <tr>\n",
       "      <th>0</th>\n",
       "      <td>1</td>\n",
       "      <td>1</td>\n",
       "      <td>2023</td>\n",
       "      <td>0.33</td>\n",
       "      <td>1</td>\n",
       "    </tr>\n",
       "  </tbody>\n",
       "</table>\n",
       "</div>"
      ],
      "text/plain": [
       "   commodity  month  year  price_x  market\n",
       "0          1      1  2023     0.33       1"
      ]
     },
     "execution_count": 42,
     "metadata": {},
     "output_type": "execute_result"
    }
   ],
   "source": [
    "input_list = [[ 1,\n",
    "                                    1,\n",
    "                                    2023,\n",
    "                                    0.33,\n",
    "                                    1]]\n",
    "df = pd.DataFrame(input_list, columns = ['commodity','month','year','price_x','market'])\n",
    "df"
   ]
  }
 ],
 "metadata": {
  "kernelspec": {
   "display_name": "Python 3",
   "language": "python",
   "name": "python3"
  },
  "language_info": {
   "codemirror_mode": {
    "name": "ipython",
    "version": 3
   },
   "file_extension": ".py",
   "mimetype": "text/x-python",
   "name": "python",
   "nbconvert_exporter": "python",
   "pygments_lexer": "ipython3",
   "version": "3.11.1"
  },
  "orig_nbformat": 4
 },
 "nbformat": 4,
 "nbformat_minor": 2
}
